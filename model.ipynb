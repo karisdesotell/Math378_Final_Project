{
  "cells": [
    {
      "cell_type": "raw",
      "metadata": {},
      "source": [
        "---\n",
        "title: \"Model\"\n",
        "format: \n",
        "  html: \n",
        "    code-fold: true\n",
        "---"
      ],
      "id": "ddb492b0"
    },
    {
      "cell_type": "code",
      "metadata": {},
      "source": [
        "from palmerpenguins import penguins\n",
        "from pandas import get_dummies\n",
        "import numpy as np\n",
        "from sklearn.linear_model import LinearRegression\n",
        "\n",
        "from sklearn import preprocessing"
      ],
      "id": "80d84c5c",
      "execution_count": null,
      "outputs": []
    },
    {
      "cell_type": "markdown",
      "metadata": {},
      "source": [
        "Get Data\n"
      ],
      "id": "71dd771e"
    },
    {
      "cell_type": "code",
      "metadata": {},
      "source": [
        "df = penguins.load_penguins().dropna()\n",
        "\n",
        "df.head(3)"
      ],
      "id": "538375d6",
      "execution_count": null,
      "outputs": []
    },
    {
      "cell_type": "markdown",
      "metadata": {},
      "source": [
        "Define Model and Fit\n"
      ],
      "id": "0f56e9b4"
    },
    {
      "cell_type": "code",
      "metadata": {},
      "source": [
        "X = get_dummies(df[['bill_length_mm', 'species', 'sex']], drop_first = True)\n",
        "y = df['body_mass_g']\n",
        "\n",
        "model = LinearRegression().fit(X, y)"
      ],
      "id": "58e49b6f",
      "execution_count": null,
      "outputs": []
    },
    {
      "cell_type": "markdown",
      "metadata": {},
      "source": [
        "Get some information\n"
      ],
      "id": "67f0f85d"
    },
    {
      "cell_type": "code",
      "metadata": {},
      "source": [
        "print(f\"R^2 {model.score(X,y)}\")\n",
        "print(f\"Intercept {model.intercept_}\")\n",
        "print(f\"Columns {X.columns}\")\n",
        "print(f\"Coefficients {model.coef_}\")"
      ],
      "id": "e75412a8",
      "execution_count": null,
      "outputs": []
    },
    {
      "cell_type": "code",
      "metadata": {},
      "source": [
        "from vetiver import VetiverModel\n",
        "v = VetiverModel(model, model_name='penguin_model', prototype_data=X)"
      ],
      "id": "7ec5a403",
      "execution_count": null,
      "outputs": []
    },
    {
      "cell_type": "code",
      "metadata": {},
      "source": [
        "import pins\n",
        "from vetiver import vetiver_pin_write\n",
        "b = pins.board_folder('data/model', allow_pickle_read=True)\n",
        "vetiver_pin_write(b, v)"
      ],
      "id": "86776ada",
      "execution_count": null,
      "outputs": []
    },
    {
      "cell_type": "code",
      "metadata": {},
      "source": [
        "#from joblib import dump, load\n",
        "\n",
        "# Assume `model` is your trained model\n",
        "#model_directory = 'C:/Users/C25Karis.Desotell/OneDrive - afacademy.af.edu/Documents/Spring 2024/Math 378/Actual Final Project'\n",
        "#model_filename = 'penguin_model.joblib'\n",
        "\n",
        "# Save the model\n",
        "#dump(model, f'{model_directory}/{model_filename}')"
      ],
      "id": "52769d88",
      "execution_count": null,
      "outputs": []
    },
    {
      "cell_type": "code",
      "metadata": {},
      "source": [
        "# Load the model\n",
        "model = load(f'{model_directory}/{model_filename}')"
      ],
      "id": "e6ae0d48",
      "execution_count": null,
      "outputs": []
    },
    {
      "cell_type": "code",
      "metadata": {},
      "source": [
        "# Generate a FastAPI app from the vetiver model\n",
        "from vetiver import VetiverAPI\n",
        "\n",
        "app = VetiverAPI(v, check_prototype=True)\n",
        "\n",
        "# Run the API server\n",
        "# Note: FastAPI's typical run command differs; assuming vetiver provides a simplified method:\n",
        "#app.run(port=8080)"
      ],
      "id": "66199494",
      "execution_count": null,
      "outputs": []
    },
    {
      "cell_type": "markdown",
      "metadata": {},
      "source": [
        "Can be accessed through \"http://localhost:8080\"\n"
      ],
      "id": "dd1c2de4"
    },
    {
      "cell_type": "code",
      "metadata": {},
      "source": [
        "#import vetiver\n",
        "#vetiver_prepare_docker(penguin_model, \"penguins\")"
      ],
      "id": "c3921905",
      "execution_count": null,
      "outputs": []
    }
  ],
  "metadata": {
    "kernelspec": {
      "name": "python3",
      "language": "python",
      "display_name": "Python 3 (ipykernel)"
    }
  },
  "nbformat": 4,
  "nbformat_minor": 5
}